{
 "cells": [
  {
   "cell_type": "markdown",
   "metadata": {
    "id": "n1c_BEIfDiST"
   },
   "source": [
    "# NLP Product Classifier\n",
    "\n",
    "## 1. Introduction\n",
    "\n",
    "As part of a Product initiative, the Data Science team is asked to develop a solution to properly classify listings that fall between two categories: **0-Cellphones** and **1-Computers**. We could use a lot of data from existing items (title, description, images, price, and other fields and metadata), but as an MVP, we decide to implement a ML solution based only on text (the items title), and frame it as a **binary classification problem**.\n",
    "\n",
    "We then build a dataset by querying from the Data Warehouse a sample of 1500 items from these two categories, with their titles (in lower case) and their categories (selected by the users when uploaded). This dataset can be found in the attached file `data.json`.\n",
    "\n",
    "In the next sections we will tackle the problem with two different approaches to assess the feasibility of the challenge."
   ]
  },
  {
   "cell_type": "markdown",
   "metadata": {},
   "source": [
    "## 2. Loading the dataset\n",
    "\n",
    "First, we begin by loading the dataset. If the file `data.json` is in the same location as this notebook (or a suitable path), you should be able to run the next two cells just fine. Otherwise, if you face any issue, you can copy and paste the data in the `else` statement below."
   ]
  },
  {
   "cell_type": "code",
   "execution_count": 15,
   "metadata": {},
   "outputs": [],
   "source": [
    "import os\n",
    "import json\n",
    "import numpy as np\n",
    "import pandas as pd\n",
    "import matplotlib.pylab as plt\n",
    "import seaborn as sns\n",
    "%matplotlib inline"
   ]
  },
  {
   "cell_type": "code",
   "execution_count": 93,
   "metadata": {},
   "outputs": [],
   "source": [
    "# SOME HELPERS\n",
    "def conf_matrix(y_true, y_pred, labels, norm='columns'):\n",
    "    confusion_matrix = pd.crosstab(y_true, y_pred, rownames=['true label'], colnames=['predictions'], normalize=norm).round(3)\n",
    "    if norm:\n",
    "        confusion_matrix = confusion_matrix*100\n",
    "        confusion_matrix[confusion_matrix < 1] = 0\n",
    "    fig, ax = plt.subplots(figsize=(6,4))\n",
    "    sns.heatmap(confusion_matrix, annot=True, cmap=plt.cm.Blues, square=True, fmt='g', xticklabels=labels, yticklabels=labels)\n",
    "    plt.show()\n",
    "    \n",
    "labels = [\"cellphones\",\"computers\"]\n",
    "label_mapper = {0: \"cellphones\", 1: \"computers\"}\n",
    "green = \"#067242\""
   ]
  },
  {
   "cell_type": "code",
   "execution_count": 17,
   "metadata": {},
   "outputs": [
    {
     "name": "stdout",
     "output_type": "stream",
     "text": [
      "Loading data from file...\n"
     ]
    }
   ],
   "source": [
    "data_file = 'data.json'\n",
    "\n",
    "if os.path.exists(data_file):\n",
    "    print(\"Loading data from file...\")\n",
    "    with open(data_file) as f:\n",
    "        data = json.load(f)\n",
    "        \n",
    "else:\n",
    "    print(\"Loading data from string...\")\n",
    "    # replace next lines with data if needed\n",
    "    data = json.loads(\"\"\"[\n",
    "      {\"title\": \"xgody smartphone (nuevo)\",\"category\": \"cellphones\",\"category_num\": 0},\n",
    "      {\"title\": \"kindle paperwhite segunda generacion\",\"category\": \"computers\",\"category_num\": 1},\n",
    "    ]\"\"\")"
   ]
  },
  {
   "cell_type": "code",
   "execution_count": 18,
   "metadata": {},
   "outputs": [
    {
     "name": "stdout",
     "output_type": "stream",
     "text": [
      "DF shape: (1500, 3)\n"
     ]
    },
    {
     "data": {
      "text/html": [
       "<div>\n",
       "<style scoped>\n",
       "    .dataframe tbody tr th:only-of-type {\n",
       "        vertical-align: middle;\n",
       "    }\n",
       "\n",
       "    .dataframe tbody tr th {\n",
       "        vertical-align: top;\n",
       "    }\n",
       "\n",
       "    .dataframe thead th {\n",
       "        text-align: right;\n",
       "    }\n",
       "</style>\n",
       "<table border=\"1\" class=\"dataframe\">\n",
       "  <thead>\n",
       "    <tr style=\"text-align: right;\">\n",
       "      <th></th>\n",
       "      <th>title</th>\n",
       "      <th>category</th>\n",
       "      <th>category_num</th>\n",
       "    </tr>\n",
       "  </thead>\n",
       "  <tbody>\n",
       "    <tr>\n",
       "      <th>0</th>\n",
       "      <td>xgody smartphone (nuevo)</td>\n",
       "      <td>cellphones</td>\n",
       "      <td>0</td>\n",
       "    </tr>\n",
       "    <tr>\n",
       "      <th>1</th>\n",
       "      <td>kindle paperwhite segunda generacion</td>\n",
       "      <td>computers</td>\n",
       "      <td>1</td>\n",
       "    </tr>\n",
       "    <tr>\n",
       "      <th>2</th>\n",
       "      <td>amplificador de antena nuevo</td>\n",
       "      <td>cellphones</td>\n",
       "      <td>0</td>\n",
       "    </tr>\n",
       "    <tr>\n",
       "      <th>3</th>\n",
       "      <td>volante logitech g27</td>\n",
       "      <td>computers</td>\n",
       "      <td>1</td>\n",
       "    </tr>\n",
       "    <tr>\n",
       "      <th>4</th>\n",
       "      <td>fitbit alta hr</td>\n",
       "      <td>cellphones</td>\n",
       "      <td>0</td>\n",
       "    </tr>\n",
       "  </tbody>\n",
       "</table>\n",
       "</div>"
      ],
      "text/plain": [
       "                                  title    category  category_num\n",
       "0              xgody smartphone (nuevo)  cellphones             0\n",
       "1  kindle paperwhite segunda generacion   computers             1\n",
       "2          amplificador de antena nuevo  cellphones             0\n",
       "3                  volante logitech g27   computers             1\n",
       "4                        fitbit alta hr  cellphones             0"
      ]
     },
     "execution_count": 18,
     "metadata": {},
     "output_type": "execute_result"
    }
   ],
   "source": [
    "df = pd.DataFrame.from_records(data)\n",
    "print(\"DF shape:\", df.shape)\n",
    "df.head()"
   ]
  },
  {
   "cell_type": "markdown",
   "metadata": {},
   "source": [
    "#### QUESTION 1: Plot the class distribution of the dataset. What we should consider in terms of balancing?"
   ]
  },
  {
   "cell_type": "code",
   "execution_count": 19,
   "metadata": {},
   "outputs": [
    {
     "data": {
      "text/html": [
       "<div>\n",
       "<style scoped>\n",
       "    .dataframe tbody tr th:only-of-type {\n",
       "        vertical-align: middle;\n",
       "    }\n",
       "\n",
       "    .dataframe tbody tr th {\n",
       "        vertical-align: top;\n",
       "    }\n",
       "\n",
       "    .dataframe thead th {\n",
       "        text-align: right;\n",
       "    }\n",
       "</style>\n",
       "<table border=\"1\" class=\"dataframe\">\n",
       "  <thead>\n",
       "    <tr style=\"text-align: right;\">\n",
       "      <th></th>\n",
       "      <th>records</th>\n",
       "      <th>%</th>\n",
       "    </tr>\n",
       "  </thead>\n",
       "  <tbody>\n",
       "    <tr>\n",
       "      <th>computers</th>\n",
       "      <td>838</td>\n",
       "      <td>0.558667</td>\n",
       "    </tr>\n",
       "    <tr>\n",
       "      <th>cellphones</th>\n",
       "      <td>662</td>\n",
       "      <td>0.441333</td>\n",
       "    </tr>\n",
       "  </tbody>\n",
       "</table>\n",
       "</div>"
      ],
      "text/plain": [
       "            records         %\n",
       "computers       838  0.558667\n",
       "cellphones      662  0.441333"
      ]
     },
     "metadata": {},
     "output_type": "display_data"
    },
    {
     "data": {
      "image/png": "[encoded data removed]",
      "text/plain": [
       "<Figure size 432x288 with 1 Axes>"
      ]
     },
     "metadata": {},
     "output_type": "display_data"
    }
   ],
   "source": [
    "# CODE ANSWER:\n",
    "# Distribution dataframe creation\n",
    "distribution = pd.DataFrame([])\n",
    "distribution[\"records\"] = df[\"category\"].value_counts()\n",
    "distribution[\"%\"] =  distribution[\"records\"]/len(df)\n",
    "display(distribution)\n",
    "\n",
    "# Distribution plot\n",
    "plt.pie(distribution[\"records\"],  wedgeprops=dict(width=0.50), startangle=90, counterclock=False, autopct='%1.1f%%')\n",
    "plt.legend(distribution.index)\n",
    "plt.show()"
   ]
  },
  {
   "cell_type": "markdown",
   "metadata": {},
   "source": [
    "##### TEXT ANSWER\n",
    "The dataset is quite balanced. There is some predominance on class \"computers\", around 10% (176 records) more than \"cellphones\".\n",
    "The difference doesn't seem to be enough to consider imbalancing issues. "
   ]
  },
  {
   "cell_type": "markdown",
   "metadata": {},
   "source": [
    "## 3. Splitting the dataset\n",
    "\n",
    "We proceed to split the dataset in two sets: train and test."
   ]
  },
  {
   "cell_type": "code",
   "execution_count": 20,
   "metadata": {},
   "outputs": [
    {
     "name": "stdout",
     "output_type": "stream",
     "text": [
      "Train size: 1200\n",
      "Test size: 300\n"
     ]
    }
   ],
   "source": [
    "from sklearn.model_selection import train_test_split\n",
    "\n",
    "df_train, df_test, y_train, y_test = train_test_split(df[\"title\"], df[\"category_num\"], test_size=0.2, random_state=42)\n",
    "print(\"Train size: {}\".format(df_train.shape[0]))\n",
    "print(\"Test size: {}\".format(df_test.shape[0]))"
   ]
  },
  {
   "cell_type": "markdown",
   "metadata": {},
   "source": [
    "## 4. Training\n",
    "\n",
    "As mentioned in the introduction, we will try to solve the problem with two different approaches."
   ]
  },
  {
   "cell_type": "markdown",
   "metadata": {},
   "source": [
    "### 4.1. Random Forest with word vectors"
   ]
  },
  {
   "cell_type": "markdown",
   "metadata": {},
   "source": [
    "We build a TF-IDF vectorizer from the dataset..."
   ]
  },
  {
   "cell_type": "code",
   "execution_count": 49,
   "metadata": {},
   "outputs": [
    {
     "name": "stderr",
     "output_type": "stream",
     "text": [
      "[nltk_data] Downloading package stopwords to /home/marc/nltk_data...\n",
      "[nltk_data]   Package stopwords is already up-to-date!\n"
     ]
    }
   ],
   "source": [
    "import nltk\n",
    "nltk.download('stopwords')\n",
    "from nltk.corpus import stopwords\n",
    "from sklearn.feature_extraction.text import TfidfVectorizer\n",
    "\n",
    "stopwords = stopwords.words(\"spanish\")\n",
    "vectorizer = TfidfVectorizer(max_features=500, stop_words=stopwords, min_df=3)\n",
    "vectorizer.fit(df_train) # Better to fit with train set to keep more realistic results on test\n",
    "\n",
    "X_train = vectorizer.transform(df_train)\n",
    "X_test = vectorizer.transform(df_test)"
   ]
  },
  {
   "cell_type": "markdown",
   "metadata": {},
   "source": [
    "And train a Random Forest model:"
   ]
  },
  {
   "cell_type": "markdown",
   "metadata": {},
   "source": [
    "#### QUESTION 2: Train a RandomForest classifier with Scikit-learn."
   ]
  },
  {
   "cell_type": "code",
   "execution_count": 54,
   "metadata": {},
   "outputs": [
    {
     "name": "stdout",
     "output_type": "stream",
     "text": [
      "              precision    recall  f1-score   support\n",
      "\n",
      "  cellphones       0.88      0.87      0.88       532\n",
      "   computers       0.90      0.91      0.90       668\n",
      "\n",
      "    accuracy                           0.89      1200\n",
      "   macro avg       0.89      0.89      0.89      1200\n",
      "weighted avg       0.89      0.89      0.89      1200\n",
      "\n"
     ]
    },
    {
     "data": {
      "image/png": "[encoded data removed]",
      "text/plain": [
       "<Figure size 432x288 with 2 Axes>"
      ]
     },
     "metadata": {
      "needs_background": "light"
     },
     "output_type": "display_data"
    }
   ],
   "source": [
    "# CODE ANSWER:\n",
    "from sklearn.ensemble import RandomForestClassifier\n",
    "from sklearn.metrics import confusion_matrix, plot_confusion_matrix, classification_report\n",
    "\n",
    "rdmforest = RandomForestClassifier(n_estimators=80, min_samples_split=100,min_samples_leaf=2, criterion=\"gini\")\n",
    "rdmforest.fit(X_train, y_train.values)\n",
    "y_pred = rdmforest.predict(X_train)\n",
    "\n",
    "print(classification_report(y_train, y_pred, target_names=labels))\n",
    "conf_matrix(y_train, y_pred, labels, norm=False)"
   ]
  },
  {
   "cell_type": "markdown",
   "metadata": {},
   "source": [
    "#### QUESTION 3: Assess the performance of this approach."
   ]
  },
  {
   "cell_type": "code",
   "execution_count": 55,
   "metadata": {},
   "outputs": [
    {
     "name": "stdout",
     "output_type": "stream",
     "text": [
      "              precision    recall  f1-score   support\n",
      "\n",
      "  cellphones       0.87      0.79      0.83       130\n",
      "   computers       0.85      0.91      0.88       170\n",
      "\n",
      "    accuracy                           0.86       300\n",
      "   macro avg       0.86      0.85      0.85       300\n",
      "weighted avg       0.86      0.86      0.86       300\n",
      "\n"
     ]
    },
    {
     "data": {
      "image/png": "[encoded data removed]",
      "text/plain": [
       "<Figure size 432x288 with 2 Axes>"
      ]
     },
     "metadata": {
      "needs_background": "light"
     },
     "output_type": "display_data"
    }
   ],
   "source": [
    "# CODE ANSWER:\n",
    "y_pred = rdmforest.predict(X_test)\n",
    "\n",
    "print(classification_report(y_test, y_pred, target_names=labels))\n",
    "conf_matrix(y_test, y_pred, labels, norm=False)"
   ]
  },
  {
   "cell_type": "markdown",
   "metadata": {},
   "source": [
    "#### TEXT ANSWER\n",
    "- Training Phase\n",
    "\n",
    "The resulting model classifies better computers than cellphones. We get 88% f1-score on cellphones, with similar precision-recall performance. Same happens with computers, but this time we get 90% f1-score, showing a good precision-recall balance as well. As we are in an almost balanced problem, accuracy is a good metric to get an idea of model overall performance, where we reach a 90% accuracy. The accuracy isn't high enough, but at least doesn't seem overfitted, let's see what happens on testing phase. If we check the confusion matrix we get see that ~120 records were misclassified.\n",
    "\n",
    "- Testing Phase\n",
    "\n",
    "The accuracy decreases to 86%. The worst metric is the \"cellphone\" recall (79%), that shows that some cell phones are being classified as a computer. "
   ]
  },
  {
   "cell_type": "markdown",
   "metadata": {},
   "source": [
    "### 4.2. Recurrent Neural Network (LSTM) with word embeddings"
   ]
  },
  {
   "cell_type": "code",
   "execution_count": 24,
   "metadata": {},
   "outputs": [],
   "source": [
    "import tensorflow as tf\n",
    "from tensorflow.keras.preprocessing.text import Tokenizer\n",
    "from tensorflow.keras.preprocessing.sequence import pad_sequences\n",
    "from tensorflow.keras.models import Sequential\n",
    "from tensorflow.keras.layers import SpatialDropout1D, Embedding, LSTM, Dense"
   ]
  },
  {
   "cell_type": "code",
   "execution_count": 62,
   "metadata": {},
   "outputs": [],
   "source": [
    "max_words = 500\n",
    "max_length = 10\n",
    "embedding_dim = 50\n",
    "batch_size = 32\n",
    "num_epochs = 15"
   ]
  },
  {
   "cell_type": "markdown",
   "metadata": {},
   "source": [
    "We begin by building a Keras word Tokenizer:"
   ]
  },
  {
   "cell_type": "code",
   "execution_count": 63,
   "metadata": {},
   "outputs": [],
   "source": [
    "tokenizer = Tokenizer(num_words=max_words, oov_token=1)\n",
    "tokenizer.fit_on_texts(df_train)\n",
    "\n",
    "X_train = tokenizer.texts_to_sequences(df_train)\n",
    "X_train = pad_sequences(X_train, maxlen=max_length)\n",
    "\n",
    "X_test = tokenizer.texts_to_sequences(df_test)\n",
    "X_test = pad_sequences(X_test, maxlen=max_length)"
   ]
  },
  {
   "cell_type": "markdown",
   "metadata": {},
   "source": [
    "#### QUESTION 4: What is the parameter `oov_token=1` in the cell above? What is its purpose?"
   ]
  },
  {
   "cell_type": "markdown",
   "metadata": {},
   "source": [
    "##### TEXT ANSWER:\n",
    "oov_token stands for out of vocabulary tokens. This parameter allows to take into account words that aren't present in the pretrained corpus. As we are working on the user's text we will find misspelings and rare words, so it's a good practice to keep these words. In this case the words will be tokenized as \"1\"."
   ]
  },
  {
   "cell_type": "markdown",
   "metadata": {},
   "source": [
    "We then train a simple RNN LSTM architecture:"
   ]
  },
  {
   "cell_type": "code",
   "execution_count": 64,
   "metadata": {
    "id": "-y6-hm5IErZD"
   },
   "outputs": [
    {
     "name": "stdout",
     "output_type": "stream",
     "text": [
      "Epoch 1/15\n",
      "38/38 [==============================] - 3s 19ms/step - loss: 0.6852 - accuracy: 0.5300 - val_loss: 0.6389 - val_accuracy: 0.5867\n",
      "Epoch 2/15\n",
      "38/38 [==============================] - 0s 8ms/step - loss: 0.5941 - accuracy: 0.6806 - val_loss: 0.4612 - val_accuracy: 0.7867\n",
      "Epoch 3/15\n",
      "38/38 [==============================] - 0s 8ms/step - loss: 0.4101 - accuracy: 0.8217 - val_loss: 0.3549 - val_accuracy: 0.8567\n",
      "Epoch 4/15\n",
      "38/38 [==============================] - 0s 8ms/step - loss: 0.3247 - accuracy: 0.8725 - val_loss: 0.3196 - val_accuracy: 0.8567\n",
      "Epoch 5/15\n",
      "38/38 [==============================] - 0s 8ms/step - loss: 0.2905 - accuracy: 0.8854 - val_loss: 0.3163 - val_accuracy: 0.8600\n",
      "Epoch 6/15\n",
      "38/38 [==============================] - 0s 8ms/step - loss: 0.2802 - accuracy: 0.8873 - val_loss: 0.3053 - val_accuracy: 0.8800\n",
      "Epoch 7/15\n",
      "38/38 [==============================] - 0s 7ms/step - loss: 0.2595 - accuracy: 0.8907 - val_loss: 0.3093 - val_accuracy: 0.8633\n",
      "Epoch 8/15\n",
      "38/38 [==============================] - 0s 8ms/step - loss: 0.2115 - accuracy: 0.9164 - val_loss: 0.3121 - val_accuracy: 0.8733\n",
      "Epoch 9/15\n",
      "38/38 [==============================] - 0s 9ms/step - loss: 0.2099 - accuracy: 0.9121 - val_loss: 0.3254 - val_accuracy: 0.8633\n",
      "Epoch 10/15\n",
      "38/38 [==============================] - 0s 8ms/step - loss: 0.2015 - accuracy: 0.9089 - val_loss: 0.3312 - val_accuracy: 0.8667\n",
      "Epoch 11/15\n",
      "38/38 [==============================] - 0s 8ms/step - loss: 0.2001 - accuracy: 0.9078 - val_loss: 0.3613 - val_accuracy: 0.8533\n",
      "Epoch 12/15\n",
      "38/38 [==============================] - 0s 8ms/step - loss: 0.1959 - accuracy: 0.9091 - val_loss: 0.3550 - val_accuracy: 0.8500\n",
      "Epoch 13/15\n",
      "38/38 [==============================] - 0s 8ms/step - loss: 0.1850 - accuracy: 0.9237 - val_loss: 0.3689 - val_accuracy: 0.8533\n",
      "Epoch 14/15\n",
      "38/38 [==============================] - 0s 8ms/step - loss: 0.1983 - accuracy: 0.9051 - val_loss: 0.3913 - val_accuracy: 0.8433\n",
      "Epoch 15/15\n",
      "38/38 [==============================] - 0s 8ms/step - loss: 0.1978 - accuracy: 0.9137 - val_loss: 0.3650 - val_accuracy: 0.8500\n"
     ]
    }
   ],
   "source": [
    "model = Sequential()\n",
    "model.add(Embedding(input_dim=max_words, output_dim=embedding_dim, input_length=max_length))\n",
    "model.add(SpatialDropout1D(0.2))\n",
    "model.add(LSTM(units=50, dropout=0.2))\n",
    "model.add(Dense(1, activation='sigmoid'))\n",
    "\n",
    "model.compile(\n",
    "    loss='binary_crossentropy', \n",
    "    optimizer='adam', \n",
    "    metrics=['accuracy']\n",
    ")\n",
    "\n",
    "history = model.fit(\n",
    "    X_train, y_train,\n",
    "    batch_size=batch_size,\n",
    "    epochs=num_epochs,\n",
    "    validation_data=(X_test, y_test)\n",
    ")"
   ]
  },
  {
   "cell_type": "markdown",
   "metadata": {},
   "source": [
    "And plot the training history:"
   ]
  },
  {
   "cell_type": "code",
   "execution_count": 65,
   "metadata": {},
   "outputs": [
    {
     "data": {
      "image/png": "[encoded data removed]",
      "text/plain": [
       "<Figure size 432x288 with 1 Axes>"
      ]
     },
     "metadata": {
      "needs_background": "light"
     },
     "output_type": "display_data"
    },
    {
     "data": {
      "image/png": "[encoded data removed]",
      "text/plain": [
       "<Figure size 432x288 with 1 Axes>"
      ]
     },
     "metadata": {
      "needs_background": "light"
     },
     "output_type": "display_data"
    },
    {
     "name": "stdout",
     "output_type": "stream",
     "text": [
      "              precision    recall  f1-score   support\n",
      "\n",
      "  cellphones       0.94      0.91      0.92       532\n",
      "   computers       0.93      0.95      0.94       668\n",
      "\n",
      "    accuracy                           0.93      1200\n",
      "   macro avg       0.93      0.93      0.93      1200\n",
      "weighted avg       0.93      0.93      0.93      1200\n",
      "\n"
     ]
    },
    {
     "data": {
      "image/png": "[encoded data removed]",
      "text/plain": [
       "<Figure size 432x288 with 2 Axes>"
      ]
     },
     "metadata": {
      "needs_background": "light"
     },
     "output_type": "display_data"
    }
   ],
   "source": [
    "epochs = range(1, num_epochs+1)\n",
    "\n",
    "plt.figure()\n",
    "plt.ylabel(\"Loss\")\n",
    "plt.xlabel(\"Epoch\")\n",
    "plt.plot(epochs, history.history[\"loss\"], label=\"train\")\n",
    "plt.plot(epochs, history.history[\"val_loss\"], label=\"test\")\n",
    "plt.legend(loc='upper right')\n",
    "\n",
    "plt.figure()\n",
    "plt.ylabel(\"Accuracy\")\n",
    "plt.xlabel(\"Epoch\")\n",
    "plt.plot(epochs, history.history[\"accuracy\"], label=\"train\")\n",
    "plt.plot(epochs, history.history[\"val_accuracy\"], label=\"test\")\n",
    "plt.legend(loc='lower right')\n",
    "\n",
    "plt.show()\n",
    "\n",
    "y_pred = model.predict(X_train).round()\n",
    "print(classification_report(y_train, y_pred.reshape(1,-1)[0], target_names=labels))\n",
    "conf_matrix(y_train, y_pred.reshape(1,-1)[0], labels, norm=False)"
   ]
  },
  {
   "cell_type": "markdown",
   "metadata": {},
   "source": [
    "#### QUESTION 5: What can you say about the training of this model?"
   ]
  },
  {
   "cell_type": "markdown",
   "metadata": {},
   "source": [
    "##### TEXT ANSWER:\n",
    "If we take a look on Accuracy and Loss plots we quickly see that the model is overfitting after epoch 6. We reach 88% accuracy on validation set at epoch 6, but for next iterations as the accuracy increases for the training set, decreases on the validation set. The solution is simple, we can train for only 6 epochs to get the model with best generalization. The callback early stopping is a good helper to avoid overfitting issues on keras models."
   ]
  },
  {
   "cell_type": "markdown",
   "metadata": {},
   "source": [
    "#### QUESTION 6: Assess the performance of this approach. How could you compare it to the first approach? In a follow-up meeting for this project you are asked to give an estimate of the performance we can expect to have with this model. How would you assess it?"
   ]
  },
  {
   "cell_type": "code",
   "execution_count": 67,
   "metadata": {},
   "outputs": [
    {
     "name": "stdout",
     "output_type": "stream",
     "text": [
      "              precision    recall  f1-score   support\n",
      "\n",
      "  cellphones       0.87      0.77      0.82       130\n",
      "   computers       0.84      0.91      0.87       170\n",
      "\n",
      "    accuracy                           0.85       300\n",
      "   macro avg       0.85      0.84      0.84       300\n",
      "weighted avg       0.85      0.85      0.85       300\n",
      "\n"
     ]
    },
    {
     "data": {
      "image/png": "[encoded data removed]",
      "text/plain": [
       "<Figure size 432x288 with 2 Axes>"
      ]
     },
     "metadata": {
      "needs_background": "light"
     },
     "output_type": "display_data"
    }
   ],
   "source": [
    "# CODE ANSWER:\n",
    "y_pred = model.predict(X_test).round()\n",
    "print(classification_report(y_test, y_pred.reshape(1,-1)[0], target_names=labels))\n",
    "conf_matrix(y_test, y_pred.reshape(1,-1)[0], labels, norm=False)"
   ]
  },
  {
   "cell_type": "markdown",
   "metadata": {},
   "source": [
    "##### TEXT ANSWER\n",
    "\n",
    "For this overfitted model we get 85% accuracy on test set whichs is lower than the previous 86% with random forest algorithm. If we take a look into training history, we can how at epoch six we get up to 88% accuracy on test set. In any case, as we have a small dataset with short text sentences there is not need to use DL approaches. Embeddings + LSTM  takes advantage of word sequence relationships, but in this case the feature \"title\" is not long enough to be a better approach than a classic td-idf+ML solution. \n",
    "\n",
    "What I would suggest is to avoid using complex models and keep it simple with the first approach with some improvements. I would say that best accuracy is around less than 90% on test set because the human error on grown truth categories. With more records and features the embeddings+LSTM approach would be a powerful model which probably outperforms the ML approach."
   ]
  },
  {
   "cell_type": "markdown",
   "metadata": {},
   "source": [
    "#### QUESTION 7: Retrieve some examples of mistakes made by the model. What can you say about them?"
   ]
  },
  {
   "cell_type": "code",
   "execution_count": 68,
   "metadata": {
    "scrolled": true
   },
   "outputs": [
    {
     "data": {
      "text/html": [
       "<div>\n",
       "<style scoped>\n",
       "    .dataframe tbody tr th:only-of-type {\n",
       "        vertical-align: middle;\n",
       "    }\n",
       "\n",
       "    .dataframe tbody tr th {\n",
       "        vertical-align: top;\n",
       "    }\n",
       "\n",
       "    .dataframe thead th {\n",
       "        text-align: right;\n",
       "    }\n",
       "</style>\n",
       "<table border=\"1\" class=\"dataframe\">\n",
       "  <thead>\n",
       "    <tr style=\"text-align: right;\">\n",
       "      <th></th>\n",
       "      <th>title</th>\n",
       "      <th>category</th>\n",
       "      <th>prediction</th>\n",
       "    </tr>\n",
       "  </thead>\n",
       "  <tbody>\n",
       "    <tr>\n",
       "      <th>1385</th>\n",
       "      <td>apple tv 32gb full hd</td>\n",
       "      <td>computers</td>\n",
       "      <td>cellphones</td>\n",
       "    </tr>\n",
       "    <tr>\n",
       "      <th>1430</th>\n",
       "      <td>realismo económico</td>\n",
       "      <td>cellphones</td>\n",
       "      <td>computers</td>\n",
       "    </tr>\n",
       "    <tr>\n",
       "      <th>1146</th>\n",
       "      <td>xiaomi mi5s gama alta. batería nueva.</td>\n",
       "      <td>cellphones</td>\n",
       "      <td>computers</td>\n",
       "    </tr>\n",
       "    <tr>\n",
       "      <th>277</th>\n",
       "      <td>garmin vivosmart 4</td>\n",
       "      <td>cellphones</td>\n",
       "      <td>computers</td>\n",
       "    </tr>\n",
       "    <tr>\n",
       "      <th>1470</th>\n",
       "      <td>aire acondicional personal nuevo + regalo</td>\n",
       "      <td>cellphones</td>\n",
       "      <td>computers</td>\n",
       "    </tr>\n",
       "    <tr>\n",
       "      <th>999</th>\n",
       "      <td>samsung a7 2018</td>\n",
       "      <td>computers</td>\n",
       "      <td>cellphones</td>\n",
       "    </tr>\n",
       "    <tr>\n",
       "      <th>554</th>\n",
       "      <td>pantalla samsung</td>\n",
       "      <td>computers</td>\n",
       "      <td>cellphones</td>\n",
       "    </tr>\n",
       "    <tr>\n",
       "      <th>432</th>\n",
       "      <td>caja iphone 6nueva</td>\n",
       "      <td>computers</td>\n",
       "      <td>cellphones</td>\n",
       "    </tr>\n",
       "    <tr>\n",
       "      <th>462</th>\n",
       "      <td>funda iphone 7plus y 8 plus</td>\n",
       "      <td>computers</td>\n",
       "      <td>cellphones</td>\n",
       "    </tr>\n",
       "    <tr>\n",
       "      <th>1357</th>\n",
       "      <td>macbook pro retina 15 i7 16gb ram 500ssd</td>\n",
       "      <td>computers</td>\n",
       "      <td>cellphones</td>\n",
       "    </tr>\n",
       "  </tbody>\n",
       "</table>\n",
       "</div>"
      ],
      "text/plain": [
       "                                          title    category  prediction\n",
       "1385                      apple tv 32gb full hd   computers  cellphones\n",
       "1430                         realismo económico  cellphones   computers\n",
       "1146      xiaomi mi5s gama alta. batería nueva.  cellphones   computers\n",
       "277                          garmin vivosmart 4  cellphones   computers\n",
       "1470  aire acondicional personal nuevo + regalo  cellphones   computers\n",
       "999                             samsung a7 2018   computers  cellphones\n",
       "554                            pantalla samsung   computers  cellphones\n",
       "432                          caja iphone 6nueva   computers  cellphones\n",
       "462                 funda iphone 7plus y 8 plus   computers  cellphones\n",
       "1357   macbook pro retina 15 i7 16gb ram 500ssd   computers  cellphones"
      ]
     },
     "execution_count": 68,
     "metadata": {},
     "output_type": "execute_result"
    }
   ],
   "source": [
    "# CODE ANSWER:\n",
    "temp = pd.DataFrame([])\n",
    "temp[\"title\"] = df_test\n",
    "temp[\"category\"] = y_test\n",
    "temp[\"prediction\"] = y_pred\n",
    "temp[\"category\"] = temp[\"category\"].replace(label_mapper)\n",
    "temp[\"prediction\"] = temp[\"prediction\"].replace(label_mapper)\n",
    "temp[temp[\"category\"] != temp[\"prediction\"]].sample(10)"
   ]
  },
  {
   "cell_type": "markdown",
   "metadata": {},
   "source": [
    "##### TEXT ANSWER\n",
    "\n",
    "What stands out most is the existing errors on user classifying its own product. For example, however \"caja iphone 6nueva\" or \"samsung a7 2018\" are supposed to be in \"cellphone\" category, the user tagged them as \"computer\". What a would suggest is to manually check the dataset to correct the errors to have a reliable ground truth and train the models again.\n",
    "\n",
    "The word \"samsung\" seems a problematic token, probably because is related with cell phones and computers."
   ]
  },
  {
   "cell_type": "markdown",
   "metadata": {},
   "source": [
    "#### QUESTION 8: Implement a function `get_prediction` to get, for any text input, the category given by the model, and test it with some of the mistakes above."
   ]
  },
  {
   "cell_type": "code",
   "execution_count": 69,
   "metadata": {},
   "outputs": [
    {
     "name": "stdout",
     "output_type": "stream",
     "text": [
      "samsung s10 pus (somos tienda física) --> computers\n",
      "funda cargador iphone 4s --> cellphones\n",
      " --> computers\n"
     ]
    }
   ],
   "source": [
    "# ANSWER:\n",
    "def get_prediction(text: str, vectorizer: Tokenizer, model: Sequential) -> str:\n",
    "    \"\"\"\n",
    "    :param text: string containing the sentence to categorize \n",
    "    :param vectorizer: fitted keras tokenizer \n",
    "    :param model: fitted keras sequential model\n",
    "    :return category: resulting category\n",
    "    \"\"\"\n",
    "    labels = [\"cellphones\", \"computers\"]\n",
    "    vectorized = vectorizer.texts_to_sequences([text])\n",
    "    vectorized = pad_sequences(vectorized, maxlen=max_length)\n",
    "    category = model.predict(vectorized).round()[0][0]\n",
    "    category = labels[int(category)]\n",
    "    return category\n",
    "\n",
    "text = \"samsung s10 pus (somos tienda física)\"\n",
    "print(f\"{text} --> {get_prediction(text, tokenizer,  model)}\")\n",
    "text = \"funda cargador iphone 4s\"\n",
    "print(f\"{text} --> {get_prediction(text, tokenizer, model)}\")\n",
    "text = \"\"\n",
    "print(f\"{text} --> {get_prediction(text, tokenizer, model)}\")"
   ]
  },
  {
   "cell_type": "markdown",
   "metadata": {},
   "source": [
    "##### \n",
    "It's interesting how the model works when there's no data. In this case, the model say \"computers\" if we don't have content, maybe because the higher presence of this class on the dataset."
   ]
  },
  {
   "cell_type": "markdown",
   "metadata": {},
   "source": [
    "## 5. Final Discussion"
   ]
  },
  {
   "cell_type": "markdown",
   "metadata": {},
   "source": [
    "#### QUESTION 9: What could be the next iterations of this project? More precisely:\n",
    "\n",
    "- **What would you change about the dataset used: information available, processing, etc?**\n",
    "- **How would you improve any/both of the approaches above, or what would you make differently?**\n",
    "- **Optionally, if you feel more confident using other libraries or architectures, or just think you can improve the current performance, feel free to give it a try! ;)**"
   ]
  },
  {
   "cell_type": "markdown",
   "metadata": {},
   "source": [
    "##### TEXT ANSWER: What would you change about the dataset used: information available, processing, etc?\n",
    "- More Data\n",
    "\n",
    "First of all, gathering more records probably helps on training and evaluation steps. With the current dataset the model is not able to find better patterns because some relevant tech words have less than 3 repetitions. Having more data on evaluation phase will provide a better idea of how will perform on production.\n",
    "\n",
    "- More features\n",
    "\n",
    "Title usually has very relevant information about the product, but sometimes can be very short. I would suggest to start adding features as product description or hashtags.\n",
    "\n",
    "Maybe the price could be useful combined with text info. In higher complex problems or products without much information an ensemble solution with an image classifier could be a powerful tool as well.\n",
    "\n",
    "- Processing\n",
    "\n",
    "I like to ask myself how I would solve the problem without ML so it could help to find interesting preprocessing methods. For example, we could manually create a dictionary of phone/computer brands or specific words to create a new binary feature that direcly relates title text with a category. For example: {\"iphone\": \"cellphone\"}\n",
    "\n",
    "In terms of vectorizing there's lots of approaches, but I usually like to improve tf-idf doing some research as trying different n-grams combinations or tweaking other hyper-parameters. At first sight I wouldn't go for a word2vec approach since we have a lot of domain specific words that probably aren't present in word2vec corpus. \n",
    "\n",
    "If we have largest sentences we could use a NER algorithm to extract keywords, for example, brands or device type."
   ]
  },
  {
   "cell_type": "markdown",
   "metadata": {},
   "source": [
    "##### TEXT ANSWER: How would you improve any/both of the approaches above, or what would you make differently?\n",
    "- ML approaches\n",
    "\n",
    "I would add some steps like cross-validation and gridsearch to look for best hyper-parameter combination. Perhaps random forest it's easy to interpret, I would give a try to SGDClassifier to check if SVM or logistic regression performs better. \n",
    "\n",
    "- DL approaches: more data, CNN, transformers\n",
    "\n",
    "With more records and richer features I would research on DL solution. I wouldn't make many changes to the current architecture, maybe play around with dropout or add one layer. I usually prefer to use succesfull archichetures from appers or pretrained models as transformers."
   ]
  },
  {
   "cell_type": "markdown",
   "metadata": {},
   "source": [
    "### 5.1 Data Analysis\n",
    "\n",
    "To conclude, I've performed a small data analysis to understand better the data itself."
   ]
  },
  {
   "cell_type": "code",
   "execution_count": 33,
   "metadata": {},
   "outputs": [],
   "source": [
    "import unidecode\n",
    "\n",
    "# REMOVE ACCENTS ON STOPWORDS\n",
    "stopwords = [unidecode.unidecode(word) for word in stopwords]"
   ]
  },
  {
   "cell_type": "code",
   "execution_count": 34,
   "metadata": {},
   "outputs": [
    {
     "name": "stdout",
     "output_type": "stream",
     "text": [
      "Mean Word Occurrence: 8.788\n",
      "Median Word Occurrence: 4.0\n"
     ]
    },
    {
     "data": {
      "image/png": "[encoded data removed]",
      "text/plain": [
       "<Figure size 1080x216 with 1 Axes>"
      ]
     },
     "metadata": {
      "needs_background": "light"
     },
     "output_type": "display_data"
    },
    {
     "data": {
      "image/png": "[encoded data removed]",
      "text/plain": [
       "<Figure size 1080x216 with 2 Axes>"
      ]
     },
     "metadata": {
      "needs_background": "light"
     },
     "output_type": "display_data"
    }
   ],
   "source": [
    "from sklearn.feature_extraction.text import CountVectorizer\n",
    "counter = CountVectorizer(max_features=500, stop_words=stopwords, strip_accents=\"unicode\", lowercase=True)\n",
    "df_counter = counter.fit_transform(df[\"title\"])\n",
    "df_counter = pd.DataFrame(df_counter.todense(), columns=counter.get_feature_names())\n",
    "counter_abstract = df_counter.sum().sort_values()\n",
    "\n",
    "\n",
    "print(f\"Mean Word Occurrence: {counter_abstract.mean()}\")\n",
    "print(f\"Median Word Occurrence: {counter_abstract.median()}\")\n",
    "\n",
    "plt.figure(figsize=(15,3))\n",
    "sns.boxplot(x=counter_abstract, color=\"#067242\")\n",
    "plt.title(\"WORD FREQUENCY DISTRIBUTION\")\n",
    "plt.show()\n",
    "\n",
    "\n",
    "fig, axes = plt.subplots(nrows=1, ncols=2, figsize=(15,3))\n",
    "counter_abstract.head().plot(kind=\"barh\", color=green, ax=axes[0], title=\"LESS FREQUENT WORDS SAMPLE\")\n",
    "counter_abstract.tail().plot(kind=\"barh\", color=green, ax=axes[1], title=\"MOST FREQUENT WORDS SAMPLE\")\n",
    "plt.show()"
   ]
  },
  {
   "cell_type": "markdown",
   "metadata": {},
   "source": [
    "##### WORD FREQUENCY\n",
    "- A lot of words appears only 2 times. \n",
    "- The word with more occurences is \"iphone\" followed by \"samsung\"."
   ]
  },
  {
   "cell_type": "code",
   "execution_count": 35,
   "metadata": {},
   "outputs": [
    {
     "data": {
      "image/png": "[encoded data removed]",
      "text/plain": [
       "<Figure size 1080x216 with 2 Axes>"
      ]
     },
     "metadata": {
      "needs_background": "light"
     },
     "output_type": "display_data"
    }
   ],
   "source": [
    "df_counter_with_categories = df_counter.join(pd.get_dummies(df[\"category\"]))\n",
    "coocurrence = df_counter_with_categories.T.dot(df_counter_with_categories)\n",
    "\n",
    "fig, axes = plt.subplots(nrows=1, ncols=2, figsize=(15,3))\n",
    "\n",
    "category = \"cellphones\"\n",
    "most_frequent_words = coocurrence[category].sort_values(ascending=False).iloc[1:11]\n",
    "most_frequent_words.plot(kind=\"barh\", color=\"orange\", ax=axes[0], title=f\"TOP {category} WORDS\")\n",
    "\n",
    "category = \"computers\"\n",
    "most_frequent_words = coocurrence[category].sort_values(ascending=False).iloc[1:11]\n",
    "most_frequent_words.plot(kind=\"barh\", ax=axes[1], title=f\"TOP {category} WORDS\")\n",
    "plt.show()"
   ]
  },
  {
   "cell_type": "markdown",
   "metadata": {},
   "source": [
    "##### WORD OCCURENCES PER CLASS\n",
    "- As expected, samsung appears on \"computers\" and \"cellphones\".\n",
    "- The word \"nuevo\" is relevant in two categories but it's not informative. I would get rid of it for next iterations."
   ]
  },
  {
   "cell_type": "code",
   "execution_count": 76,
   "metadata": {},
   "outputs": [
    {
     "name": "stdout",
     "output_type": "stream",
     "text": [
      "Mean Title Lenght: 3.0\n"
     ]
    },
    {
     "data": {
      "image/png": "[encoded data removed]",
      "text/plain": [
       "<Figure size 432x288 with 1 Axes>"
      ]
     },
     "metadata": {
      "needs_background": "light"
     },
     "output_type": "display_data"
    }
   ],
   "source": [
    "# TITLE LENGHT\n",
    "title_len = df_counter.sum(1)\n",
    "print(f\"Mean Title Lenght: {title_len.mean().round()}\")\n",
    "title_len.hist(color=green)\n",
    "plt.show()"
   ]
  },
  {
   "cell_type": "markdown",
   "metadata": {},
   "source": [
    "##### TITLTE LENGTH\n",
    "On the embedding model we have set max_length to 10, which is correct if we take a look on token distribution per product."
   ]
  },
  {
   "cell_type": "code",
   "execution_count": 92,
   "metadata": {},
   "outputs": [
    {
     "name": "stdout",
     "output_type": "stream",
     "text": [
      "NOT RELEVANT WORDS\n",
      "['buen', '3gb', '500', 'pavilion', '750', 'a50', 'rom', 'ultrabook', 'tactil', 'ghz', 'silver', 'gamer', 'g6', 'dell', 'discreta', 'elitebook', 'mas', 'cam', '250', 'fotos', 'impoluto', 'real', '23', '2017', 'pulsera', '1080']\n",
      "\n",
      "LOW RELEVANT WORDS\n"
     ]
    },
    {
     "data": {
      "text/html": [
       "<div>\n",
       "<style scoped>\n",
       "    .dataframe tbody tr th:only-of-type {\n",
       "        vertical-align: middle;\n",
       "    }\n",
       "\n",
       "    .dataframe tbody tr th {\n",
       "        vertical-align: top;\n",
       "    }\n",
       "\n",
       "    .dataframe thead th {\n",
       "        text-align: right;\n",
       "    }\n",
       "</style>\n",
       "<table border=\"1\" class=\"dataframe\">\n",
       "  <thead>\n",
       "    <tr style=\"text-align: right;\">\n",
       "      <th></th>\n",
       "      <th>relevance</th>\n",
       "    </tr>\n",
       "  </thead>\n",
       "  <tbody>\n",
       "    <tr>\n",
       "      <th>compaq</th>\n",
       "      <td>0.000003</td>\n",
       "    </tr>\n",
       "    <tr>\n",
       "      <th>dv</th>\n",
       "      <td>0.000004</td>\n",
       "    </tr>\n",
       "    <tr>\n",
       "      <th>sata</th>\n",
       "      <td>0.000005</td>\n",
       "    </tr>\n",
       "    <tr>\n",
       "      <th>ddr4</th>\n",
       "      <td>0.000005</td>\n",
       "    </tr>\n",
       "    <tr>\n",
       "      <th>360</th>\n",
       "      <td>0.000006</td>\n",
       "    </tr>\n",
       "    <tr>\n",
       "      <th>17</th>\n",
       "      <td>0.000006</td>\n",
       "    </tr>\n",
       "    <tr>\n",
       "      <th>silla</th>\n",
       "      <td>0.000007</td>\n",
       "    </tr>\n",
       "    <tr>\n",
       "      <th>mac</th>\n",
       "      <td>0.000007</td>\n",
       "    </tr>\n",
       "    <tr>\n",
       "      <th>control</th>\n",
       "      <td>0.000007</td>\n",
       "    </tr>\n",
       "    <tr>\n",
       "      <th>benq</th>\n",
       "      <td>0.000008</td>\n",
       "    </tr>\n",
       "  </tbody>\n",
       "</table>\n",
       "</div>"
      ],
      "text/plain": [
       "         relevance\n",
       "compaq    0.000003\n",
       "dv        0.000004\n",
       "sata      0.000005\n",
       "ddr4      0.000005\n",
       "360       0.000006\n",
       "17        0.000006\n",
       "silla     0.000007\n",
       "mac       0.000007\n",
       "control   0.000007\n",
       "benq      0.000008"
      ]
     },
     "metadata": {},
     "output_type": "display_data"
    },
    {
     "name": "stdout",
     "output_type": "stream",
     "text": [
      "\n",
      "HIGH RELEVANT WORDS\n"
     ]
    },
    {
     "data": {
      "text/html": [
       "<div>\n",
       "<style scoped>\n",
       "    .dataframe tbody tr th:only-of-type {\n",
       "        vertical-align: middle;\n",
       "    }\n",
       "\n",
       "    .dataframe tbody tr th {\n",
       "        vertical-align: top;\n",
       "    }\n",
       "\n",
       "    .dataframe thead th {\n",
       "        text-align: right;\n",
       "    }\n",
       "</style>\n",
       "<table border=\"1\" class=\"dataframe\">\n",
       "  <thead>\n",
       "    <tr style=\"text-align: right;\">\n",
       "      <th></th>\n",
       "      <th>relevance</th>\n",
       "    </tr>\n",
       "  </thead>\n",
       "  <tbody>\n",
       "    <tr>\n",
       "      <th>plus</th>\n",
       "      <td>0.018175</td>\n",
       "    </tr>\n",
       "    <tr>\n",
       "      <th>vendo</th>\n",
       "      <td>0.018936</td>\n",
       "    </tr>\n",
       "    <tr>\n",
       "      <th>note</th>\n",
       "      <td>0.021560</td>\n",
       "    </tr>\n",
       "    <tr>\n",
       "      <th>teléfono</th>\n",
       "      <td>0.025945</td>\n",
       "    </tr>\n",
       "    <tr>\n",
       "      <th>xiaomi</th>\n",
       "      <td>0.032764</td>\n",
       "    </tr>\n",
       "    <tr>\n",
       "      <th>lg</th>\n",
       "      <td>0.034760</td>\n",
       "    </tr>\n",
       "    <tr>\n",
       "      <th>galaxy</th>\n",
       "      <td>0.037848</td>\n",
       "    </tr>\n",
       "    <tr>\n",
       "      <th>huawei</th>\n",
       "      <td>0.039003</td>\n",
       "    </tr>\n",
       "    <tr>\n",
       "      <th>samsung</th>\n",
       "      <td>0.062701</td>\n",
       "    </tr>\n",
       "    <tr>\n",
       "      <th>iphone</th>\n",
       "      <td>0.138893</td>\n",
       "    </tr>\n",
       "  </tbody>\n",
       "</table>\n",
       "</div>"
      ],
      "text/plain": [
       "          relevance\n",
       "plus       0.018175\n",
       "vendo      0.018936\n",
       "note       0.021560\n",
       "teléfono   0.025945\n",
       "xiaomi     0.032764\n",
       "lg         0.034760\n",
       "galaxy     0.037848\n",
       "huawei     0.039003\n",
       "samsung    0.062701\n",
       "iphone     0.138893"
      ]
     },
     "metadata": {},
     "output_type": "display_data"
    }
   ],
   "source": [
    "# RANDOM FOREST RELEVANCES\n",
    "df_relevances = pd.DataFrame(rdmforest.feature_importances_, index=vectorizer.get_feature_names(), columns=[\"relevance\"]).sort_values(by=\"relevance\")\n",
    "print(\"NOT RELEVANT WORDS\")\n",
    "print(list(df_relevances[df_relevances[\"relevance\"] == 0].index))\n",
    "\n",
    "print(\"\\nLOW RELEVANT WORDS\")\n",
    "display(df_relevances[df_relevances[\"relevance\"] > 0].head(10))\n",
    "\n",
    "print(\"\\nHIGH RELEVANT WORDS\")\n",
    "display(df_relevances[df_relevances[\"relevance\"] > 0].tail(10))"
   ]
  },
  {
   "cell_type": "markdown",
   "metadata": {},
   "source": [
    "##### RANDOM FOREST RELEVANCES\n",
    "\n",
    "- There are some words that the model actually found irrelevant.\n",
    "- Most informative words for the model are brands (\"iphone\", \"samsung\", \"huawei\",...)"
   ]
  }
 ],
 "metadata": {
  "colab": {
   "authorship_tag": "ABX9TyP6BdO0zNLyln+B7C3OL3jc",
   "name": "Data Science @ Wallapop - Technical Test.ipynb",
   "provenance": []
  },
  "kernelspec": {
   "display_name": "Python 3",
   "language": "python",
   "name": "python3"
  },
  "language_info": {
   "codemirror_mode": {
    "name": "ipython",
    "version": 3
   },
   "file_extension": ".py",
   "mimetype": "text/x-python",
   "name": "python",
   "nbconvert_exporter": "python",
   "pygments_lexer": "ipython3",
   "version": "3.7.12"
  }
 },
 "nbformat": 4,
 "nbformat_minor": 4
}